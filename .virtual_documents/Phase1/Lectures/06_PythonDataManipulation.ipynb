




















# Create your bento list
bento = ['salmon', 'rice', 'edamame', 'seaweed salad', 'dumplings']





type(bento)


len(bento)


# Run this cell without changes
bento[4]


# Try to get the last entry
bento[-2]


bento[5]





# Run this cell without changes
# Play around with these numbers, and start to build some understanding of 
# which elements are where exactly in the list
bento[2:]


bento


bento[:3]





# Code here to add to your list
bento.append('kimchi')


bento





# Code here to test that out
bento.pop()


# Now check what your list looks like - is that last item still there?
bento


bento.remove('kimchi')


bento





bento[:-1]


# Pay attention to what the .join is doing
print("I'd like my bento to contain: " + ", ".join(bento[:-1]) + ", and " + bento[-1])





# F-string formatting easier!
print(f"My bento box will include: {', '.join(bento[:-1])}, and {bento[1]}.")


print(f"My bento box will include: {bento[0]} and {bento[1]}.")


# The above cell is the same as:
print("My bento box will include: {} and {}.".format(bento[0], bento[1]))











text_str = 'some string here'
text_str.title()


# Write a for loop to capitalize each ingredient in our bento list
# for x in interable:
#     f(X)
for item in bento:
    print(item.title())


bento.title()


item


bento





bento.append('seared tuna')


# Write your for loop with a conditional

# Need to first define an empty list to become our new list
s_bento = []
r_bento = []
other_bento = []
# Now our loop
for ingredient in bento:
    if 's' in ingredient:
        s_bento.append(ingredient)
        if 'r' in ingredient:
            r_bento.append(ingredient)
    elif 'r' in ingredient:
        r_bento.append(ingredient)
    else:
        other_bento.append(ingredient)


# Check your work
s_bento


r_bento


other_bento





# Change our loop to a list comprehension
s_bento = [ingredient for ingredient in bento if 's' in ingredient]
s_bento


# We could do the same with our earlier capitalization, too!
[ingredient.title() for ingredient in bento]




















new_dict = {'key': 'value', 'key2': 'value2'}


# Here's an example of zipping two lists together to form a dictionary
example_bento_keys = ["ingredient1", "ingredient2", "ingredient3"]
example_bento_values = ["rice", "tempura", "miso soup"]

example_bento_dict = dict(zip(example_bento_keys, example_bento_values))

print(example_bento_dict)
print(type(example_bento_dict))


# Now let's do that! What does our current list look like?
bento


# Let's define keys for our bento
bento_keys = ['protein', 'main', 'vegetable1', 'vegetable2', 'side']


# Now create your bento_dict!
bento_dict = dict(zip(bento_keys, bento))


# Code here to check your work - check type, and print your dictionary
print(type(bento_dict))

print(bento_dict)





bento_dict['protein']


bento_dict[0]


dict1 = {'key1': 20, 'key2': 30}


bracket_way = dict1['key3']
type(bracket_way)


# Potentially better way because it returns None rather than an error
#bracket_way = dict1['key3']
get_way = dict1.get('key3')
type(get_way)


get_way


bracket_way





bento_dict.items()


# Write your loop using .items() to unpack key, value pairs
for key, value in bento_dict.items():
    if 'vegetable' in key:
        print(value)


for x in bento_dict:
    print(x, bento_dict[x])





# Need to first define an empty dictionary to become our new dict
veggie_dict = {}

for key, value in bento_dict.items():
    if 'vegetable' in key:
        number = key[-1]
        veggie_dict[number] = value.title()


# Check your work!
veggie_dict





# Change our loop to a dictionary comprehension
{k[-1]: v.title() for k, v in bento_dict.items() if 'vegetable' in k}


bento_dict.values()


# You can get creative with it too!
{f"Ingredient {x+1}": list(bento_dict.values())[x] for x in range(len((bento_dict.values())))}





# Can go ahead and paste at least two other dictionaries
james_bento = {
    'main': 'cheeseburger',
    'cheese': 'pepper jack',
    'side': 'french fries',
    'vegetable1': 'pickles',
    'vegetable2': 'onions',
    'drink': 'milkshake'}

hannah_bento = {
    "main": "salad",
    "protein": "tempura shrimp",
    "vegetable1": "radishes",
    "vegetable2": "cucumbers",
    "side": "tuna roll"}


# Code here to create your nested dictionaries
group_dict = {'Daniel': bento_dict, 'James': james_bento, 'Hannah': hannah_bento}


# Check your work
group_dict


group_dict.values()





# Code here to grab a list of who you have orders for
group = list(group_dict.keys())
group


# Check your work
type(group)





# Access one dictionary's main
group_dict['James']['main']


group_dict.get('James').get('main')





list(group_dict.values())[0]


# Code here to write a for loop that prints each main
# Think about what we are looping through and if you need .items()
for order in group_dict.values():
    print(order['main'])





# An example of nested comprehensions
{f"{name}'s vegetables": [v for k, v in order.items() if 'vegetable' in k]
 for name, order in group_dict.items()}


# But remember ... it's okay to easier to write this out as a for loop
# THEN you can condense into a comprehension more easily!

group_veggie_dict = {}

for name, order in group_dict.items():
    ingredient_list = []    
    for key, ingredient in order.items():        
        if 'vegetable' in key:
            ingredient_list.append(ingredient)
    group_veggie_dict[f"{name}'s vegetables"] = ingredient_list
    
# Check it
group_veggie_dict

















def find_ingredients(nested_dict, ingredient_type='main'):
    '''
    Function that takes in a dictionary, where names are keys and values are
    dictionaries of that person's bento order, and then checks which keys in
    the bento order dictionary match the provided string. The output is a list
    of tuples, with each person's name and a list of matched ingredients.
    
    Inputs:
        nested_dictionary : dictionary
        ingredient_type : string (default is 'main')
        
    Outputs:
        output_list : tuple
    '''
    output_list = []
    for name, order in nested_dict.items():
        ingredient_list = []
        for key, ingredient in order.items():
            if ingredient_type in key:
                ingredient_list.append(ingredient)
        output_list.append((name, ingredient_list))
    
    
    return output_list


# version that outputs dictionary instead of list
def find_ingredients_dict(nested_dict, ingredient_type='main'):
    '''
    Function that takes in a dictionary, where names are keys and values are
    dictionaries of that person's bento order, and then checks which keys in
    the bento order dictionary match the provided string. The output is a list
    of tuples, with each person's name and a list of matched ingredients.
    
    Inputs:
        nested_dictionary : dictionary
        ingredient_type : string (default is 'main')
        
    Outputs:
        output_list : tuple
    '''
    output_dict = {}
    for name, order in nested_dict.items():
        ingredient_list = []
        for key, ingredient in order.items():
            if ingredient_type in key:
                ingredient_list.append(ingredient)
        output_dict[name] = ingredient_list
    
    
    return output_dict


# Try it!
output = find_ingredients(group_dict, 'side')
output


type(output[0])


find_ingredients_dict(group_dict)








nums = set(range(1000))


# Your code here








words = ['carbon', 'osmium', 'mercury', 'potassium', 'rhenium', 'einsteinium',
        'hydrogen', 'erbium', 'nitrogen', 'sulfur', 'iodine', 'oxygen', 'niobium']


# Your code here








names = ['Randy', 'Robert', 'Alex', 'Ranjit', 'Charlie', 'Richard', 'Ravdeep',
        'Vimal', 'Wu', 'Nelson']


# Your code here (couple ways to do this)








phone_nos = [{'name': 'greg', 'nums': {'home': 1234567, 'work': 7654321}},
             {'name': 'max', 'nums': {'home': 9876543, 'work': 1010001}},
             {'name': 'erin', 'nums': {'home': 3333333, 'work': 4444444}},
             {'name': 'joél', 'nums': {'home': 2222222, 'work': 5555555}},
             {'name': 'sean', 'nums': {'home': 9999999, 'work': 8888888}}]


# Your code here








customers = {
    'bill': {'purchases': {'movies': ['Terminator', 'Elf'],
                           'books': []},
             'id': 1},
    'dolph': {'purchases': {'movies': ['It Happened One Night'],
                            'books': ['The Far Side Gallery']},
              'id': 2},
    'pat': {'purchases': {'movies': [],
                          'books': ['Seinfeld and Philosophy', 'I Am a Bunny']},
            'id': 3}
}


# Your code here








# Your code here








# Your code here



